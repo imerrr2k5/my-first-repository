{
  "nbformat": 4,
  "nbformat_minor": 0,
  "metadata": {
    "colab": {
      "provenance": [],
      "authorship_tag": "ABX9TyN8UFgiacQUpfbKX24zucRx",
      "include_colab_link": true
    },
    "kernelspec": {
      "name": "python3",
      "display_name": "Python 3"
    },
    "language_info": {
      "name": "python"
    }
  },
  "cells": [
    {
      "cell_type": "markdown",
      "metadata": {
        "id": "view-in-github",
        "colab_type": "text"
      },
      "source": [
        "<a href=\"https://colab.research.google.com/github/imerrr2k5/my-first-repository/blob/main/My_first_notebook.ipynb\" target=\"_parent\"><img src=\"https://colab.research.google.com/assets/colab-badge.svg\" alt=\"Open In Colab\"/></a>"
      ]
    },
    {
      "cell_type": "code",
      "execution_count": 5,
      "metadata": {
        "colab": {
          "base_uri": "https://localhost:8080/"
        },
        "id": "TycWTZO2lC5T",
        "outputId": "20c1936a-2af0-42cb-dd5a-57f6ecf1d139"
      },
      "outputs": [
        {
          "output_type": "stream",
          "name": "stdout",
          "text": [
            "hola imer\n",
            "15\n",
            "8\n"
          ]
        }
      ],
      "source": [
        "name = \"imer\"\n",
        "print(\"hola\",name)\n",
        "a = 3\n",
        "b = 5\n",
        "c = a * b\n",
        "d = a + b\n",
        "print(c)\n",
        "print(d)"
      ]
    },
    {
      "cell_type": "code",
      "source": [],
      "metadata": {
        "id": "d4lUM9HWmmx2"
      },
      "execution_count": null,
      "outputs": []
    }
  ]
}